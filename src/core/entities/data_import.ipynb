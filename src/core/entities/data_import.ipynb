{
 "cells": [
  {
   "cell_type": "code",
   "execution_count": null,
   "id": "e86a64cd",
   "metadata": {},
   "outputs": [],
   "source": [
    "import csv\n",
    "from statistics import mean\n",
    "\n",
    "\n",
    "def find_min(csv_file, column_name):\n",
    "    \"\"\"\n",
    "    Find the minimum value in a CSV column.\n",
    "    Returns None if column isn't found or has no numeric values.\n",
    "    \"\"\"\n",
    "    with open(csv_file, mode='r') as file:\n",
    "        reader = csv.DictReader(file)\n",
    "        numeric_values = []\n",
    "        for row in reader:\n",
    "            try:\n",
    "                numeric_values.append(float(row[column_name]))\n",
    "            except (ValueError, KeyError):\n",
    "                continue\n",
    "        return min(numeric_values) if numeric_values else None\n",
    "\n",
    "def find_max(csv_file, column_name):\n",
    "    \"\"\"\n",
    "    Find the maximum value in a CSV column.\n",
    "    Returns None if column isn't found or has no numeric values.\n",
    "    \"\"\"\n",
    "    with open(csv_file, mode='r') as file:\n",
    "        reader = csv.DictReader(file)\n",
    "        numeric_values = []\n",
    "        for row in reader:\n",
    "            try:\n",
    "                numeric_values.append(float(row[column_name]))\n",
    "            except (ValueError, KeyError):\n",
    "                continue\n",
    "        return max(numeric_values) if numeric_values else None\n",
    "\n",
    "def calculate_average(csv_file, column_name):\n",
    "    \"\"\"\n",
    "    Calculate the average of values in a CSV column.\n",
    "    Returns None if column isn't found or has no numeric values.\n",
    "    \"\"\"\n",
    "    with open(csv_file, mode='r') as file:\n",
    "        reader = csv.DictReader(file)\n",
    "        numeric_values = []\n",
    "        for row in reader:\n",
    "            try:\n",
    "                numeric_values.append(float(row[column_name]))\n",
    "            except (ValueError, KeyError):\n",
    "                continue\n",
    "        return mean(numeric_values) if numeric_values else None\n"
   ]
  }
 ],
 "metadata": {
  "kernelspec": {
   "display_name": "base",
   "language": "python",
   "name": "python3"
  },
  "language_info": {
   "name": "python",
   "version": "3.12.7"
  }
 },
 "nbformat": 4,
 "nbformat_minor": 5
}
